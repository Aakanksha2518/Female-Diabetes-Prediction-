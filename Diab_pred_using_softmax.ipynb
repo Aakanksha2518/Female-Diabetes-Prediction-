{
  "nbformat": 4,
  "nbformat_minor": 0,
  "metadata": {
    "colab": {
      "provenance": [],
      "authorship_tag": "ABX9TyPCvY4pteBpErw5IAp6gfGf",
      "include_colab_link": true
    },
    "kernelspec": {
      "name": "python3",
      "display_name": "Python 3"
    },
    "language_info": {
      "name": "python"
    }
  },
  "cells": [
    {
      "cell_type": "markdown",
      "metadata": {
        "id": "view-in-github",
        "colab_type": "text"
      },
      "source": [
        "<a href=\"https://colab.research.google.com/github/Aakanksha2518/Female-Diabetes-Prediction-/blob/main/Diab_pred_using_softmax.ipynb\" target=\"_parent\"><img src=\"https://colab.research.google.com/assets/colab-badge.svg\" alt=\"Open In Colab\"/></a>"
      ]
    },
    {
      "cell_type": "code",
      "source": [
        "pip install -U kaleido"
      ],
      "metadata": {
        "colab": {
          "base_uri": "https://localhost:8080/"
        },
        "id": "HPY4xIdDweN4",
        "outputId": "3dee28e9-b356-4643-b679-782370d48a94"
      },
      "execution_count": 22,
      "outputs": [
        {
          "output_type": "stream",
          "name": "stdout",
          "text": [
            "Collecting kaleido\n",
            "  Downloading kaleido-0.2.1-py2.py3-none-manylinux1_x86_64.whl.metadata (15 kB)\n",
            "Downloading kaleido-0.2.1-py2.py3-none-manylinux1_x86_64.whl (79.9 MB)\n",
            "\u001b[2K   \u001b[90m━━━━━━━━━━━━━━━━━━━━━━━━━━━━━━━━━━━━━━━━\u001b[0m \u001b[32m79.9/79.9 MB\u001b[0m \u001b[31m7.9 MB/s\u001b[0m eta \u001b[36m0:00:00\u001b[0m\n",
            "\u001b[?25hInstalling collected packages: kaleido\n",
            "Successfully installed kaleido-0.2.1\n"
          ]
        }
      ]
    },
    {
      "cell_type": "code",
      "execution_count": null,
      "metadata": {
        "id": "-aX2-LwRQl5e"
      },
      "outputs": [],
      "source": [
        "import numpy as np\n",
        "import pandas as pd\n",
        "from sklearn.model_selection import train_test_split\n",
        "from sklearn.preprocessing import StandardScaler"
      ]
    },
    {
      "cell_type": "code",
      "source": [
        "df = pd.read_csv('/content/Diabetes.csv')"
      ],
      "metadata": {
        "id": "o2GTjMkPSakb"
      },
      "execution_count": null,
      "outputs": []
    },
    {
      "cell_type": "code",
      "source": [
        "x = df.drop('Outcome', axis =1).values\n",
        "y = df['Outcome'].values"
      ],
      "metadata": {
        "id": "TyqSkK6BTb1U"
      },
      "execution_count": null,
      "outputs": []
    },
    {
      "cell_type": "markdown",
      "source": [],
      "metadata": {
        "id": "6I8A_jaHitKK"
      }
    },
    {
      "cell_type": "code",
      "source": [
        "def one_hot(y, num_classes):\n",
        "  m = y.shape[0]\n",
        "  one_hot_y = np.zeros((m, num_classes))\n",
        "  one_hot_y[np.arange(m), y] =1\n",
        "  return one_hot_y\n"
      ],
      "metadata": {
        "id": "EYO1zKoCVdI6"
      },
      "execution_count": null,
      "outputs": []
    },
    {
      "cell_type": "code",
      "source": [
        "y_encoded = one_hot(y, 2)"
      ],
      "metadata": {
        "id": "y4V-QyFe9xNX"
      },
      "execution_count": null,
      "outputs": []
    },
    {
      "cell_type": "code",
      "source": [
        "#splitting the data\n",
        "x_train, x_test, y_train, y_test = train_test_split(x, y_encoded, test_size = 0.2, random_state= 42 )"
      ],
      "metadata": {
        "id": "BFo-KrIB98-z"
      },
      "execution_count": null,
      "outputs": []
    },
    {
      "cell_type": "code",
      "source": [
        "#standardising the data\n",
        "scaler = StandardScaler()\n",
        "x_train = scaler.fit_transform(x_train)\n",
        "x_test = scaler.transform(x_test)\n"
      ],
      "metadata": {
        "id": "eUjRO6xKuz6o"
      },
      "execution_count": null,
      "outputs": []
    },
    {
      "cell_type": "code",
      "source": [
        "#using the softmaa function\n",
        "def softmax(z):\n",
        "  #to prevent the model from computing large values like e^1000, which might say inf or NaN, we tend to divide the\n",
        "  #exponentials by the max exponential, which causes no difference as we are dividing the numerator and denominator both\n",
        "  exp_z = np.exp(z -np.max(z, axis =1, keepdims=True))\n",
        "  return exp_z / np.sum(exp_z, axis =1, keepdims=True)\n",
        "\n",
        "\n"
      ],
      "metadata": {
        "id": "AbDgedG0vXr_"
      },
      "execution_count": null,
      "outputs": []
    },
    {
      "cell_type": "code",
      "source": [
        "#model predicting value for each class\n",
        "def predict_proba(x,w,b):\n",
        "  return softmax(np.dot(x,w) +b)"
      ],
      "metadata": {
        "id": "L_ZqDpomxT_R"
      },
      "execution_count": null,
      "outputs": []
    },
    {
      "cell_type": "code",
      "source": [
        "#choosing the max^m probility class, i.e. the final answer\n",
        "def predict(x, w ,b):\n",
        "  probs = predict_proba(x, w, b)\n",
        "  return np.argmax(probs, axis =1 )"
      ],
      "metadata": {
        "id": "hW5EwrYAy0ED"
      },
      "execution_count": null,
      "outputs": []
    },
    {
      "cell_type": "code",
      "source": [
        "def compute_cost(X, y, W, b):\n",
        "    m = X.shape[0]\n",
        "    probs = predict_proba(X, W, b)\n",
        "    log_probs = np.log(probs + 1e-15)\n",
        "    loss = -np.sum(y * log_probs) / m\n",
        "    return loss"
      ],
      "metadata": {
        "id": "5065UlJ08qLt"
      },
      "execution_count": null,
      "outputs": []
    },
    {
      "cell_type": "code",
      "source": [
        "#cost function\n",
        "#using the cross entropy function to calculate the loss\n",
        "def compute_gradient(x, y, w, b):\n",
        "  m = x.shape[0]\n",
        "  probs = predict_proba(x, w,b)\n",
        "  dz = probs - y\n",
        "  dw = np.dot(x.T, dz) / m\n",
        "  db = np.sum(dz, axis = 0) / m\n",
        "  return dw, db\n"
      ],
      "metadata": {
        "id": "nVniJSOrzVAB"
      },
      "execution_count": null,
      "outputs": []
    },
    {
      "cell_type": "code",
      "source": [
        "#training loop\n",
        "def train_softmax(x, y, lr=0.1, epochs=100000):\n",
        "  n_features = x.shape[1]\n",
        "  n_classes = y.shape[1]\n",
        "  w = np.zeros((n_features, n_classes))\n",
        "  b = np.zeros((n_classes, ))\n",
        "  losses =[]\n",
        "\n",
        "  for i in range(epochs):\n",
        "    dw , db = compute_gradient(x, y, w, b)\n",
        "    w = w - lr*dw\n",
        "    b = b - lr*db\n",
        "    if i % 100 == 0:\n",
        "      loss = compute_cost(x, y, w, b)\n",
        "      losses.append(loss)\n",
        "      print(f\"Epoch {i}, Loss {loss:.4f} \")\n",
        "  return w, b"
      ],
      "metadata": {
        "id": "AWcbZUXdzkiT"
      },
      "execution_count": null,
      "outputs": []
    },
    {
      "cell_type": "code",
      "source": [
        "#train the model\n",
        "w_final, b_final = train_softmax(x_train, y_train, lr = 0.1, epochs = 100000)"
      ],
      "metadata": {
        "id": "cUjgXRWe8Aq_"
      },
      "execution_count": null,
      "outputs": []
    },
    {
      "cell_type": "code",
      "source": [
        "#finally using these values of w and b to get the prediction\n",
        "y_pred = predict(x_test, w_final, b_final)\n",
        "y_test_labels = np.argmax(y_test, axis =1)"
      ],
      "metadata": {
        "id": "X8ZMw0zp9tsa"
      },
      "execution_count": null,
      "outputs": []
    },
    {
      "cell_type": "code",
      "source": [
        "from sklearn.metrics import accuracy_score\n",
        "accuracy = accuracy_score(y_test_labels, y_pred)\n",
        "print(f\"Test Accuracy: {accuracy:.2f}\")\n"
      ],
      "metadata": {
        "id": "L1Eo7oNV-Wxf"
      },
      "execution_count": null,
      "outputs": []
    },
    {
      "cell_type": "code",
      "source": [],
      "metadata": {
        "id": "WqoC0jKd-dkU"
      },
      "execution_count": null,
      "outputs": []
    }
  ]
}